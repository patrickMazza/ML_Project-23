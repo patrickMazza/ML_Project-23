{
 "cells": [
  {
   "cell_type": "code",
   "execution_count": 2,
   "id": "14c78e05",
   "metadata": {},
   "outputs": [],
   "source": [
    "#PATRICK MAZZA - ASSIGNMENT_ONE \n",
    "#This code creates the silhouettes of the training cones.\n",
    "from matplotlib import pyplot as plt\n",
    "from roipoly import RoiPoly\n",
    "import cv2 \n",
    "import os\n",
    "import numpy as np \n",
    "directory = '/Users/patrickmazza/roipoly.py-1/img/ECE5242Proj1-train/'\n",
    "files = os.listdir(directory)\n",
    "\n",
    "for n in files:\n",
    "    newer_path = os.path.join('masks',n)\n",
    "    if not os.path.exists(newer_path) and n[-3:]=='png':\n",
    "        img = cv2.imread(os.path.join(directory,n))\n",
    "        img = cv2.cvtColor(img, cv2.COLOR_BGR2RGB)\n",
    "\n",
    "        fig,ax = plt.subplots(1)\n",
    "        ax.imshow(img)\n",
    "\n",
    "        roi1 = RoiPoly(color='r') \n",
    "        plt.show()\n",
    "\n",
    "        mask = roi1.get_mask(img[:,:,0])\n",
    "        print(mask)\n",
    "\n",
    "        cv2.imwrite(newer_path,mask*280)"
   ]
  }
 ],
 "metadata": {
  "kernelspec": {
   "display_name": "Python 3 (ipykernel)",
   "language": "python",
   "name": "python3"
  },
  "language_info": {
   "codemirror_mode": {
    "name": "ipython",
    "version": 3
   },
   "file_extension": ".py",
   "mimetype": "text/x-python",
   "name": "python",
   "nbconvert_exporter": "python",
   "pygments_lexer": "ipython3",
   "version": "3.9.13"
  }
 },
 "nbformat": 4,
 "nbformat_minor": 5
}
